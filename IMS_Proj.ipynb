{
 "cells": [
  {
   "cell_type": "markdown",
   "id": "363f33a3",
   "metadata": {},
   "source": [
    "# Making Inventory"
   ]
  },
  {
   "cell_type": "code",
   "execution_count": null,
   "id": "8d4f9ab8",
   "metadata": {},
   "outputs": [],
   "source": [
    "record = {\"01\": {\"name\": \"Jeans\", \"price\": 400, \"quantity\": 30, \"discount\": 10},\n",
    "          \"02\": {\"name\": \"Shoes\", \"price\": 600, \"quantity\": 20, \"discount\": 20},\n",
    "          \"03\": {\"name\": \"Bags\", \"price\": 500 , \"quantity\": 40, \"discount\": 20},\n",
    "          \"04\": {\"name\": \"Shirts\", \"price\": 150, \"quantity\": 45, \"discount\": 10},\n",
    "          \"05\": {\"name\": \"Short Pants\", \"price\": 250, \"quantity\": 50, \"discount\": 10},\n",
    "          \"06\": {\"name\": \"Headphones\", \"price\": 100 , \"quantity\": 50, \"discount\": 10},\n",
    "          \"07\": {\"name\": \"Printers\", \"price\": 6000, \"quantity\": 15, \"discount\": 20},\n",
    "          \"08\": {\"name\": \"Laptops\", \"price\": 25000, \"quantity\": 10, \"discount\": 10},\n",
    "          \"09\": {\"name\": \"TV\", \"price\": 15000, \"quantity\": 15, \"discount\": 5},\n",
    "          \"10\": {\"name\": \"Monitor\", \"price\": 6000, \"quantity\": 20, \"discount\": 5},\n",
    "          \"11\": {\"name\": \"ChessBoard Game\", \"price\": 75, \"quantity\": 45, \"discount\": 10},\n",
    "          \"12\": {\"name\": \"Carrom\", \"price\": 650, \"quantity\": 30, \"discount\": 5},\n",
    "          \"13\": {\"name\": \"PS5\", \"price\": 60000, \"quantity\": 10, \"discount\": 1000},\n",
    "          \"14\": {\"name\": \"PS4\", \"price\": 40000, \"quantity\": 15, \"discount\": 2000},\n",
    "          \"15\": {\"name\": \"Mouse Pad\", \"price\": 400, \"quantity\": 50, \"discount\": 100},\n",
    "          \"16\": {\"name\": \"Phone Charger\", \"price\": 100, \"quantity\": 100, \"discount\": 10},\n",
    "          \"17\": {\"name\": \"Laptop Charger\", \"price\": 300, \"quantity\": 100, \"discount\": 50},\n",
    "          \"18\": {\"name\": \"Books\", \"price\": 50, \"quantity\": 500, \"discount\": 100},\n",
    "          \"19\": {\"name\": \"Biscuits\", \"price\": 20, \"quantity\": 1000, \"discount\": 100},\n",
    "          \"20\": {\"name\": \"Pillows\", \"price\": 150, \"quantity\": 200, \"discount\": 50},\n",
    "          \"21\": {\"name\": \"Masks\", \"price\": 50, \"quantity\": 1000, \"discount\": 100},\n",
    "          \"22\": {\"name\": \"Choco Cake\", \"price\": 100, \"quantity\": 35, \"discount\": 5},\n",
    "          \"23\": {\"name\": \"Milk Cake\", \"price\": 800, \"quantity\": 100, \"discount\": 20},\n",
    "          \"24\": {\"name\": \"Drink\", \"price\": 85, \"quantity\": 100, \"discount\": 10},\n",
    "          \"25\": {\"name\": \"Candy\", \"price\": 5, \"quantity\": 1000, \"discount\": 0},\n",
    "          \"26\": {\"name\": \"Pen\", \"price\": 20, \"quantity\": 100, \"discount\": 0},\n",
    "          \"27\": {\"name\": \"Phone\", \"price\": 50000, \"quantity\": 10, \"discount\": 2000},\n",
    "          \"28\": {\"name\": \"Mic\", \"price\": 1500, \"quantity\": 0, \"discount\": 100},\n",
    "          \"29\": {\"name\": \"Case\", \"price\": 599, \"quantity\": 5, \"discount\": 50},\n",
    "          \"30\": {\"name\": \"Keyboard\", \"price\": 1999, \"quantity\": 10, \"discount\": 100}}"
   ]
  },
  {
   "cell_type": "code",
   "execution_count": 19,
   "id": "b4da983f",
   "metadata": {},
   "outputs": [],
   "source": [
    "import json\n",
    "a = json.dumps(record)"
   ]
  },
  {
   "cell_type": "code",
   "execution_count": 20,
   "id": "4bc4b555",
   "metadata": {},
   "outputs": [
    {
     "data": {
      "text/plain": [
       "'{\"01\": {\"name\": \"Jeans\", \"price\": 400, \"quantity\": 30, \"discount\": 10}, \"02\": {\"name\": \"Shoes\", \"price\": 600, \"quantity\": 20, \"discount\": 20}, \"03\": {\"name\": \"Bags\", \"price\": 500, \"quantity\": 40, \"discount\": 20}, \"04\": {\"name\": \"Shirts\", \"price\": 150, \"quantity\": 45, \"discount\": 10}, \"05\": {\"name\": \"Short Pants\", \"price\": 250, \"quantity\": 50, \"discount\": 10}, \"06\": {\"name\": \"Headphones\", \"price\": 100, \"quantity\": 50, \"discount\": 10}, \"07\": {\"name\": \"Printers\", \"price\": 6000, \"quantity\": 15, \"discount\": 20}, \"08\": {\"name\": \"Laptops\", \"price\": 25000, \"quantity\": 10, \"discount\": 10}, \"09\": {\"name\": \"TV\", \"price\": 15000, \"quantity\": 15, \"discount\": 5}, \"10\": {\"name\": \"Monitor\", \"price\": 6000, \"quantity\": 20, \"discount\": 5}, \"11\": {\"name\": \"ChessBoard Game\", \"price\": 75, \"quantity\": 45, \"discount\": 10}, \"12\": {\"name\": \"Carrom\", \"price\": 650, \"quantity\": 30, \"discount\": 5}, \"13\": {\"name\": \"PS5\", \"price\": 60000, \"quantity\": 10, \"discount\": 1000}, \"14\": {\"name\": \"PS4\", \"price\": 40000, \"quantity\": 15, \"discount\": 2000}, \"15\": {\"name\": \"Mouse Pad\", \"price\": 400, \"quantity\": 50, \"discount\": 100}, \"16\": {\"name\": \"Phone Charger\", \"price\": 100, \"quantity\": 100, \"discount\": 10}, \"17\": {\"name\": \"Laptop Charger\", \"price\": 300, \"quantity\": 100, \"discount\": 50}, \"18\": {\"name\": \"Books\", \"price\": 50, \"quantity\": 500, \"discount\": 100}, \"19\": {\"name\": \"Biscuits\", \"price\": 20, \"quantity\": 1000, \"discount\": 100}, \"20\": {\"name\": \"Pillows\", \"price\": 150, \"quantity\": 200, \"discount\": 50}, \"21\": {\"name\": \"Masks\", \"price\": 50, \"quantity\": 1000, \"discount\": 100}, \"22\": {\"name\": \"Choco Cake\", \"price\": 100, \"quantity\": 35, \"discount\": 5}, \"23\": {\"name\": \"Milk Cake\", \"price\": 800, \"quantity\": 100, \"discount\": 20}, \"24\": {\"name\": \"Drink\", \"price\": 85, \"quantity\": 100, \"discount\": 10}, \"25\": {\"name\": \"Candy\", \"price\": 5, \"quantity\": 1000, \"discount\": 0}, \"26\": {\"name\": \"Pen\", \"price\": 20, \"quantity\": 100, \"discount\": 0}, \"27\": {\"name\": \"Phone\", \"price\": 50000, \"quantity\": 10, \"discount\": 2000}, \"28\": {\"name\": \"Mic\", \"price\": 1500, \"quantity\": 0, \"discount\": 100}, \"29\": {\"name\": \"Case\", \"price\": 599, \"quantity\": 5, \"discount\": 50}, \"30\": {\"name\": \"Keyboard\", \"price\": 1999, \"quantity\": 10, \"discount\": 100}}'"
      ]
     },
     "execution_count": 20,
     "metadata": {},
     "output_type": "execute_result"
    }
   ],
   "source": [
    "a"
   ]
  },
  {
   "cell_type": "code",
   "execution_count": 21,
   "id": "5b497621",
   "metadata": {},
   "outputs": [],
   "source": [
    "fd=open(\"prod_data.txt\" , 'w')\n",
    "\n",
    "fd.write(a)\n",
    "\n",
    "fd.close()"
   ]
  },
  {
   "cell_type": "code",
   "execution_count": 22,
   "id": "227d5afe",
   "metadata": {},
   "outputs": [],
   "source": [
    "fd = open(\"prod_data.txt\",'r')\n",
    "r = fd.read()\n",
    "fd.close()\n",
    "\n"
   ]
  },
  {
   "cell_type": "code",
   "execution_count": 23,
   "id": "d11d15e3",
   "metadata": {},
   "outputs": [],
   "source": [
    "record = json.loads(r)"
   ]
  },
  {
   "cell_type": "code",
   "execution_count": 24,
   "id": "faf89a22",
   "metadata": {},
   "outputs": [
    {
     "data": {
      "text/plain": [
       "{'01': {'name': 'Jeans', 'price': 400, 'quantity': 30, 'discount': 10},\n",
       " '02': {'name': 'Shoes', 'price': 600, 'quantity': 20, 'discount': 20},\n",
       " '03': {'name': 'Bags', 'price': 500, 'quantity': 40, 'discount': 20},\n",
       " '04': {'name': 'Shirts', 'price': 150, 'quantity': 45, 'discount': 10},\n",
       " '05': {'name': 'Short Pants', 'price': 250, 'quantity': 50, 'discount': 10},\n",
       " '06': {'name': 'Headphones', 'price': 100, 'quantity': 50, 'discount': 10},\n",
       " '07': {'name': 'Printers', 'price': 6000, 'quantity': 15, 'discount': 20},\n",
       " '08': {'name': 'Laptops', 'price': 25000, 'quantity': 10, 'discount': 10},\n",
       " '09': {'name': 'TV', 'price': 15000, 'quantity': 15, 'discount': 5},\n",
       " '10': {'name': 'Monitor', 'price': 6000, 'quantity': 20, 'discount': 5},\n",
       " '11': {'name': 'ChessBoard Game',\n",
       "  'price': 75,\n",
       "  'quantity': 45,\n",
       "  'discount': 10},\n",
       " '12': {'name': 'Carrom', 'price': 650, 'quantity': 30, 'discount': 5},\n",
       " '13': {'name': 'PS5', 'price': 60000, 'quantity': 10, 'discount': 1000},\n",
       " '14': {'name': 'PS4', 'price': 40000, 'quantity': 15, 'discount': 2000},\n",
       " '15': {'name': 'Mouse Pad', 'price': 400, 'quantity': 50, 'discount': 100},\n",
       " '16': {'name': 'Phone Charger',\n",
       "  'price': 100,\n",
       "  'quantity': 100,\n",
       "  'discount': 10},\n",
       " '17': {'name': 'Laptop Charger',\n",
       "  'price': 300,\n",
       "  'quantity': 100,\n",
       "  'discount': 50},\n",
       " '18': {'name': 'Books', 'price': 50, 'quantity': 500, 'discount': 100},\n",
       " '19': {'name': 'Biscuits', 'price': 20, 'quantity': 1000, 'discount': 100},\n",
       " '20': {'name': 'Pillows', 'price': 150, 'quantity': 200, 'discount': 50},\n",
       " '21': {'name': 'Masks', 'price': 50, 'quantity': 1000, 'discount': 100},\n",
       " '22': {'name': 'Choco Cake', 'price': 100, 'quantity': 35, 'discount': 5},\n",
       " '23': {'name': 'Milk Cake', 'price': 800, 'quantity': 100, 'discount': 20},\n",
       " '24': {'name': 'Drink', 'price': 85, 'quantity': 100, 'discount': 10},\n",
       " '25': {'name': 'Candy', 'price': 5, 'quantity': 1000, 'discount': 0},\n",
       " '26': {'name': 'Pen', 'price': 20, 'quantity': 100, 'discount': 0},\n",
       " '27': {'name': 'Phone', 'price': 50000, 'quantity': 10, 'discount': 2000},\n",
       " '28': {'name': 'Mic', 'price': 1500, 'quantity': 0, 'discount': 100},\n",
       " '29': {'name': 'Case', 'price': 599, 'quantity': 5, 'discount': 50},\n",
       " '30': {'name': 'Keyboard', 'price': 1999, 'quantity': 10, 'discount': 100}}"
      ]
     },
     "execution_count": 24,
     "metadata": {},
     "output_type": "execute_result"
    }
   ],
   "source": [
    "record\n"
   ]
  },
  {
   "cell_type": "code",
   "execution_count": 25,
   "id": "61d594cc",
   "metadata": {},
   "outputs": [],
   "source": [
    "a = json.dumps(record)\n",
    "fd=open(\"prod_data.json\" , 'w')\n",
    "\n",
    "fd.write(a)\n",
    "\n",
    "fd.close()"
   ]
  },
  {
   "cell_type": "markdown",
   "id": "17bcfc8d",
   "metadata": {},
   "source": [
    "# Adding Product Details"
   ]
  },
  {
   "cell_type": "code",
   "execution_count": 30,
   "id": "acb997cb",
   "metadata": {},
   "outputs": [
    {
     "name": "stdout",
     "output_type": "stream",
     "text": [
      "Enter Product ID: 31\n",
      "Enter Name: fsg\n",
      "Enter Price: 545\n",
      "Enter Quantity: 547\n",
      "Enter Discount Amount: 54\n",
      "*******Product Already Available*********\n"
     ]
    }
   ],
   "source": [
    "prod_id = str(input(\"Enter Product ID: \"))\n",
    "name = str(input(\"Enter Name: \"))\n",
    "price = int(input(\"Enter Price: \"))\n",
    "quantity = int(input(\"Enter Quantity: \"))\n",
    "discount =int(input(\"Enter Discount Amount: \"))\n",
    "\n",
    "if (prod_id in record):\n",
    "      print (\"*******Product Already Available*********\")\n",
    "else :\n",
    "    record[prod_id] = {'name': name, 'price': price, 'quantity': quantity ,'discount': discount}\n",
    "    print (\"*******Product Added********\")\n",
    "\n",
    "    \n",
    "a = json.dumps(record)\n",
    "\n",
    "fd=open(\"prod_data.txt\" , 'w')\n",
    "fd.write(a)\n",
    "fd.close()\n",
    "\n",
    "fd=open(\"prod_data.json\" , 'w')\n",
    "fd.write(a)\n",
    "fd.close()"
   ]
  },
  {
   "cell_type": "markdown",
   "id": "3225d949",
   "metadata": {},
   "source": [
    "# Updating Products Details"
   ]
  },
  {
   "cell_type": "code",
   "execution_count": 33,
   "id": "2b88c1c1",
   "metadata": {},
   "outputs": [
    {
     "name": "stdout",
     "output_type": "stream",
     "text": [
      "Enter Product ID: 14\n",
      "Enter Replacable Price: 500\n",
      "Enter Quantity: 4\n",
      "Enter Discount Amount: 10\n",
      "***** Product Details Updated *****\n"
     ]
    }
   ],
   "source": [
    "pid = str(input(\"Enter Product ID: \"))\n",
    "pr = int(input(\"Enter Replacable Price: \"))\n",
    "qn = int(input(\"Enter Quantity: \"))\n",
    "dis =int(input(\"Enter Discount Amount: \"))\n",
    "\n",
    "if (pid in record ):\n",
    "    record[prod_id][\"price\"]=pr\n",
    "    record[prod_id][\"quantity\"]=record[prod_id][\"quantity\"]+qn\n",
    "    record[prod_id][\"discount\"]=record[prod_id][\"discount\"]+dis\n",
    "    \n",
    "    print (\"***** Product Details Updated *****\")\n",
    "else :    \n",
    "    print (\" Please Enter Valid Prod_ID  or  Try Adding Product First \")\n",
    "    \n",
    "    \n",
    "a = json.dumps(record)\n",
    "\n",
    "fd=open(\"prod_data.txt\" , 'w')\n",
    "fd.write(a)\n",
    "fd.close()\n",
    "\n",
    "fd=open(\"prod_data.json\" , 'w')\n",
    "fd.write(a)\n",
    "fd.close()\n",
    "    "
   ]
  },
  {
   "cell_type": "code",
   "execution_count": null,
   "id": "77655898",
   "metadata": {},
   "outputs": [],
   "source": []
  },
  {
   "cell_type": "markdown",
   "id": "9f7edc33",
   "metadata": {},
   "source": [
    "# Import Libraries"
   ]
  },
  {
   "cell_type": "code",
   "execution_count": 32,
   "id": "e6d414d6",
   "metadata": {},
   "outputs": [],
   "source": [
    "import json\n",
    "import time"
   ]
  },
  {
   "cell_type": "code",
   "execution_count": 36,
   "id": "90c63fac",
   "metadata": {},
   "outputs": [],
   "source": [
    "fd=open(\"prod_data.txt\" , 'w')\n",
    "fd.write(a)\n",
    "fd.close()"
   ]
  },
  {
   "cell_type": "code",
   "execution_count": 37,
   "id": "02399a99",
   "metadata": {},
   "outputs": [],
   "source": [
    "fd = open(\"prod_data.txt\",'r')\n",
    "r = fd.read()\n",
    "fd.close()\n"
   ]
  },
  {
   "cell_type": "code",
   "execution_count": 38,
   "id": "acaef145",
   "metadata": {},
   "outputs": [],
   "source": [
    "record = json.loads(r)"
   ]
  },
  {
   "cell_type": "code",
   "execution_count": 39,
   "id": "6d1aea14",
   "metadata": {},
   "outputs": [],
   "source": [
    "a = json.dumps(record)\n",
    "fd=open(\"prod_data.json\" , 'w')\n",
    "fd.write(a)\n",
    "fd.close()"
   ]
  },
  {
   "cell_type": "code",
   "execution_count": 48,
   "id": "a26766aa",
   "metadata": {},
   "outputs": [
    {
     "data": {
      "text/plain": [
       "{'01': {'name': 'Jeans', 'price': 400, 'quantity': 30, 'discount': 10},\n",
       " '02': {'name': 'Shoes', 'price': 600, 'quantity': 20, 'discount': 20},\n",
       " '03': {'name': 'Bags', 'price': 500, 'quantity': 40, 'discount': 20},\n",
       " '04': {'name': 'Shirts', 'price': 150, 'quantity': 45, 'discount': 10},\n",
       " '05': {'name': 'Short Pants', 'price': 250, 'quantity': 50, 'discount': 10},\n",
       " '06': {'name': 'Headphones', 'price': 100, 'quantity': 50, 'discount': 10},\n",
       " '07': {'name': 'Printers', 'price': 6000, 'quantity': 15, 'discount': 20},\n",
       " '08': {'name': 'Laptops', 'price': 25000, 'quantity': 10, 'discount': 10},\n",
       " '09': {'name': 'TV', 'price': 15000, 'quantity': 15, 'discount': 5},\n",
       " '10': {'name': 'Monitor', 'price': 6000, 'quantity': 20, 'discount': 5},\n",
       " '11': {'name': 'ChessBoard Game',\n",
       "  'price': 75,\n",
       "  'quantity': 45,\n",
       "  'discount': 10},\n",
       " '12': {'name': 'Carrom', 'price': 650, 'quantity': 30, 'discount': 5},\n",
       " '13': {'name': 'PS5', 'price': 60000, 'quantity': 10, 'discount': 1000},\n",
       " '14': {'name': 'PS4', 'price': 40000, 'quantity': 15, 'discount': 2000},\n",
       " '15': {'name': 'Mouse Pad', 'price': 400, 'quantity': 50, 'discount': 100},\n",
       " '16': {'name': 'Phone Charger',\n",
       "  'price': 100,\n",
       "  'quantity': 100,\n",
       "  'discount': 10},\n",
       " '17': {'name': 'Laptop Charger',\n",
       "  'price': 300,\n",
       "  'quantity': 100,\n",
       "  'discount': 50},\n",
       " '18': {'name': 'Books', 'price': 50, 'quantity': 500, 'discount': 100},\n",
       " '19': {'name': 'Biscuits', 'price': 20, 'quantity': 1000, 'discount': 100},\n",
       " '20': {'name': 'Pillows', 'price': 150, 'quantity': 200, 'discount': 50},\n",
       " '21': {'name': 'Masks', 'price': 50, 'quantity': 1000, 'discount': 100},\n",
       " '22': {'name': 'Choco Cake', 'price': 100, 'quantity': 35, 'discount': 5},\n",
       " '23': {'name': 'Milk Cake', 'price': 800, 'quantity': 100, 'discount': 20},\n",
       " '24': {'name': 'Drink', 'price': 85, 'quantity': 100, 'discount': 10},\n",
       " '25': {'name': 'Candy', 'price': 5, 'quantity': 1000, 'discount': 0},\n",
       " '26': {'name': 'Pen', 'price': 20, 'quantity': 100, 'discount': 0},\n",
       " '27': {'name': 'Phone', 'price': 50000, 'quantity': 10, 'discount': 2000},\n",
       " '28': {'name': 'Mic', 'price': 1500, 'quantity': 0, 'discount': 100},\n",
       " '29': {'name': 'Case', 'price': 599, 'quantity': 5, 'discount': 50},\n",
       " '30': {'name': 'Keyboard', 'price': 1999, 'quantity': 10, 'discount': 100},\n",
       " '31': {'name': 'Bracelet', 'price': 500, 'quantity': 14, 'discount': 85}}"
      ]
     },
     "execution_count": 48,
     "metadata": {},
     "output_type": "execute_result"
    }
   ],
   "source": [
    "record\n"
   ]
  },
  {
   "cell_type": "markdown",
   "id": "b4523cf5",
   "metadata": {},
   "source": [
    "# Purchase Details"
   ]
  },
  {
   "cell_type": "code",
   "execution_count": 61,
   "id": "63de22f5",
   "metadata": {},
   "outputs": [
    {
     "name": "stdout",
     "output_type": "stream",
     "text": [
      "Enter Product_ID: 12\n",
      "Enter Quantity to be Purchased: 10\n",
      "*********************************************************\n",
      "\n",
      "*********BILL RECEIPT**********\n",
      "-------------------------------\n",
      "Product:  Carrom\n",
      "Price:  650\n",
      "-------------------------------\n",
      "Billing Amount  6500\n",
      "\n",
      "********************************************************\n"
     ]
    }
   ],
   "source": [
    "ui_id = str(input(\"Enter Product_ID: \"))\n",
    "ui_qn = int(input(\"Enter Quantity to be Purchased: \"))\n",
    "\n",
    "print(\"*********************************************************\\n\")\n",
    "print(\"*********BILL RECEIPT**********\")\n",
    "print(\"-------------------------------\")\n",
    "print(\"Product: \", record[ui_id]['name'])\n",
    "print(\"Price: \", record[ui_id]['price'])\n",
    "print(\"-------------------------------\")\n",
    "print(\"Billing Amount \", record[ui_id]['price']*ui_qn)\n",
    "print(\"\\n********************************************************\")\n",
    "record[ui_id]['quantity']=record[ui_id]['quantity']-ui_qn\n",
    "\n",
    "\n",
    "\n",
    "\n",
    "a = json.dumps(record)\n",
    "\n",
    "fd=open(\"prod_data.txt\" , 'w')\n",
    "fd.write(a)\n",
    "fd.close()\n",
    "\n",
    "fd=open(\"prod_data.json\" , 'w')\n",
    "fd.write(a)\n",
    "fd.close()\n",
    "    "
   ]
  },
  {
   "cell_type": "code",
   "execution_count": null,
   "id": "d2e4554f",
   "metadata": {},
   "outputs": [],
   "source": []
  },
  {
   "cell_type": "markdown",
   "id": "501fca4b",
   "metadata": {},
   "source": [
    "# Sales Details"
   ]
  },
  {
   "cell_type": "code",
   "execution_count": 65,
   "id": "d16437c7",
   "metadata": {},
   "outputs": [],
   "source": [
    "sales={'product_id': ui_id, 'prod_name': record[ui_id]['name'], 'price': record[ui_id]['price']*ui_qn, 'quantity':ui_qn}"
   ]
  },
  {
   "cell_type": "code",
   "execution_count": 66,
   "id": "069cdffc",
   "metadata": {},
   "outputs": [],
   "source": [
    "sl=json.dumps(sales)\n",
    "fd=open('sales.json','a')\n",
    "fd.write(sl)\n",
    "fd.close()"
   ]
  },
  {
   "cell_type": "code",
   "execution_count": 67,
   "id": "707cf2c8",
   "metadata": {},
   "outputs": [
    {
     "data": {
      "text/plain": [
       "{'product_id': '12', 'prod_name': 'Carrom', 'price': 6500, 'quantity': 10}"
      ]
     },
     "execution_count": 67,
     "metadata": {},
     "output_type": "execute_result"
    }
   ],
   "source": [
    "sales\n"
   ]
  },
  {
   "cell_type": "code",
   "execution_count": null,
   "id": "ae7b228c",
   "metadata": {},
   "outputs": [],
   "source": []
  }
 ],
 "metadata": {
  "kernelspec": {
   "display_name": "Python 3 (ipykernel)",
   "language": "python",
   "name": "python3"
  },
  "language_info": {
   "codemirror_mode": {
    "name": "ipython",
    "version": 3
   },
   "file_extension": ".py",
   "mimetype": "text/x-python",
   "name": "python",
   "nbconvert_exporter": "python",
   "pygments_lexer": "ipython3",
   "version": "3.9.6"
  }
 },
 "nbformat": 4,
 "nbformat_minor": 5
}
